{
 "cells": [
  {
   "cell_type": "markdown",
   "metadata": {},
   "source": [
    "<center>\n",
    "    <img src=\"https://cf-courses-data.s3.us.cloud-object-storage.appdomain.cloud/IBMDeveloperSkillsNetwork-DS0105EN-SkillsNetwork/labs/Module2/images/SN_web_lightmode.png\" width=\"300\" alt=\"cognitiveclass.ai logo\">\n",
    "</center>\n"
   ]
  },
  {
   "cell_type": "markdown",
   "metadata": {},
   "source": [
    "#### Add your code below following the instructions given in the course\n"
   ]
  },
  {
   "cell_type": "markdown",
   "metadata": {
    "tags": []
   },
   "source": [
    "# My Jupiter Notebook on IBM Watson Studio"
   ]
  },
  {
   "cell_type": "markdown",
   "metadata": {
    "tags": []
   },
   "source": [
    "**Muhammad Adan Khalid**  \n",
    "  Data Engineer"
   ]
  },
  {
   "cell_type": "markdown",
   "metadata": {
    "tags": []
   },
   "source": [
    "*I'm interested in Data science because there are vast opportunities in this area. Moreover, I'm already familiar with some programming languages Like C and Python that could help me become a better Data scientist or engineer.*"
   ]
  },
  {
   "cell_type": "markdown",
   "metadata": {},
   "source": [
    "### Data Science Libraries\n",
    "1. Numpy\n",
    "2. Scikit-learn\n",
    "3. Pandas\n",
    "4. Keras\n",
    "5. TensorFlow"
   ]
  },
  {
   "cell_type": "markdown",
   "metadata": {},
   "source": [
    "| DS Tools     | Description |\n",
    "| ----------- | ----------- |\n",
    "| SAS     | It is one of those data science tools which are specifically designed for statistical operations.     |\n",
    "| Apache Spark   | Apache Spark or simply Spark is an all-powerful analytics engine and it is the most used Data Science tool.     |"
   ]
  },
  {
   "cell_type": "markdown",
   "metadata": {
    "tags": []
   },
   "source": [
    "### Data Science Languages\n",
    "* R\n",
    "* Python\n",
    "* Scala\n",
    "* JavaScript\n",
    "* Julia\n",
    "* SQL\n",
    "* ..."
   ]
  },
  {
   "cell_type": "markdown",
   "metadata": {
    "tags": []
   },
   "source": [
    "### The code in the very next cell is going to perform arithmetic operations"
   ]
  },
  {
   "cell_type": "code",
   "execution_count": 3,
   "metadata": {},
   "outputs": [
    {
     "name": "stdout",
     "output_type": "stream",
     "text": [
      "The 1st output: 6\n",
      "The 2nd output: 27\n"
     ]
    }
   ],
   "source": [
    "x=9-3\n",
    "print(\"The 1st output:\", x)\n",
    "y=9*3\n",
    "print(\"The 2nd output:\",y)"
   ]
  },
  {
   "cell_type": "markdown",
   "metadata": {
    "tags": []
   },
   "source": [
    "### Bullet Lists / Unordered\n",
    "- abc\n",
    "- def\n",
    "- ghi\n",
    "### Numbered Lists / Ordered\n",
    "1. abc\n",
    "2. def\n",
    "3. ghi\n",
    "### Hyperlinks\n",
    "[Babar Azam](https://en.wikipedia.org/wiki/Babar_Azam) is the greatest batsmen of all time."
   ]
  },
  {
   "cell_type": "code",
   "execution_count": 13,
   "metadata": {},
   "outputs": [
    {
     "name": "stdin",
     "output_type": "stream",
     "text": [
      "Please enter minutes: 150\n"
     ]
    },
    {
     "name": "stdout",
     "output_type": "stream",
     "text": [
      "2.5  hours\n"
     ]
    }
   ],
   "source": [
    "min = int(input(\"Please enter minutes:\"))\n",
    "hours = min / 60\n",
    "print(hours, \" hours\")"
   ]
  }
 ],
 "metadata": {
  "kernelspec": {
   "display_name": "Python",
   "language": "python",
   "name": "conda-env-python-py"
  },
  "language_info": {
   "codemirror_mode": {
    "name": "ipython",
    "version": 3
   },
   "file_extension": ".py",
   "mimetype": "text/x-python",
   "name": "python",
   "nbconvert_exporter": "python",
   "pygments_lexer": "ipython3",
   "version": "3.7.12"
  }
 },
 "nbformat": 4,
 "nbformat_minor": 4
}
